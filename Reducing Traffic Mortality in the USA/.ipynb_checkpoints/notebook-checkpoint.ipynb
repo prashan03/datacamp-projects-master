{
 "cells": [
  {
   "cell_type": "markdown",
   "metadata": {
    "dc": {
     "key": "3"
    },
    "deletable": false,
    "editable": false,
    "run_control": {
     "frozen": true
    },
    "tags": [
     "context"
    ]
   },
   "source": [
    "## 1. The raw data files and their format\n",
    "<p><img src=\"https://s3.amazonaws.com/assets.datacamp.com/production/project_462/img/car-accident.jpg\" alt=\"\"></p>\n",
    "<p>While the rate of fatal road accidents has been decreasing steadily since the 80s, the past ten years have seen a stagnation in this reduction. Coupled with the increase in number of miles driven in the nation, the total number of traffic related-fatalities has now reached a ten year high and is rapidly increasing.</p>\n",
    "<p>Per request of the US Department of Transportation, we are currently investigating how to derive a strategy to reduce the incidence of road accidents across the nation. By looking at the demographics of traﬃc accident victims for each US state, we find that there is a lot of variation between states. Now we want to understand if there are patterns in this variation in order to derive suggestions for a policy action plan. In particular, instead of implementing a costly nation-wide plan we want to focus on groups of  states with similar profiles. How can we find such groups in a statistically sound way and communicate the result effectively?</p>\n",
    "<p>To accomplish these tasks, we will make use of data wrangling, plotting, dimensionality reduction, and unsupervised clustering.</p>\n",
    "<p>The data given to us was originally collected by the National Highway Traffic Safety Administration and the National Association of Insurance Commissioners. This particular dataset was compiled and released as a <a href=\"https://github.com/fivethirtyeight/data/tree/master/bad-drivers\">CSV-file</a> by FiveThirtyEight under the <a href=\"https://github.com/ﬁvethirtyeight/data\">CC-BY4.0 license</a>.</p>"
   ]
  },
  {
   "cell_type": "code",
   "execution_count": 1,
   "metadata": {
    "dc": {
     "key": "3"
    },
    "scrolled": true,
    "tags": [
     "sample_code"
    ]
   },
   "outputs": [
    {
     "name": "stdout",
     "output_type": "stream",
     "text": [
      "[\"'pwd' is not recognized as an internal or external command,\", 'operable program or batch file.']\n",
      "[\"'ls' is not recognized as an internal or external command,\", 'operable program or batch file.']\n",
      "[\"'ls' is not recognized as an internal or external command,\", 'operable program or batch file.']\n"
     ]
    },
    {
     "data": {
      "text/plain": [
       "[\"'head' is not recognized as an internal or external command,\",\n",
       " 'operable program or batch file.']"
      ]
     },
     "execution_count": 1,
     "metadata": {},
     "output_type": "execute_result"
    }
   ],
   "source": [
    "# Check the name of the current folder\n",
    "current_dir = !pwd\n",
    "print(current_dir)\n",
    "\n",
    "# List all files in this folder\n",
    "file_list = !ls\n",
    "print(file_list)\n",
    "\n",
    "# List all files in the datasets directory\n",
    "dataset_list = !ls datasets/\n",
    "print(dataset_list)\n",
    "\n",
    "# View the first 20 lines of datasets/road-accidents.csv\n",
    "accidents_head = !head  -n 20 datasets/road-accidents.csv\n",
    "accidents_head"
   ]
  },
  {
   "cell_type": "markdown",
   "metadata": {
    "dc": {
     "key": "10"
    },
    "deletable": false,
    "editable": false,
    "run_control": {
     "frozen": true
    },
    "tags": [
     "context"
    ]
   },
   "source": [
    "## 2. Read in and get an overview of the data\n",
    "<p>Next, we will orient ourselves to get to know the data with which we are dealing.</p>"
   ]
  },
  {
   "cell_type": "code",
   "execution_count": 2,
   "metadata": {
    "dc": {
     "key": "10"
    },
    "tags": [
     "sample_code"
    ]
   },
   "outputs": [
    {
     "name": "stdout",
     "output_type": "stream",
     "text": [
      "There are 51 rows and 5 columns.\n",
      "\n",
      "<class 'pandas.core.frame.DataFrame'>\n",
      "RangeIndex: 51 entries, 0 to 50\n",
      "Data columns (total 5 columns):\n",
      " #   Column                Non-Null Count  Dtype  \n",
      "---  ------                --------------  -----  \n",
      " 0   state                 51 non-null     object \n",
      " 1   drvr_fatl_col_bmiles  51 non-null     float64\n",
      " 2   perc_fatl_speed       51 non-null     int64  \n",
      " 3   perc_fatl_alcohol     51 non-null     int64  \n",
      " 4   perc_fatl_1st_time    51 non-null     int64  \n",
      "dtypes: float64(1), int64(3), object(1)\n",
      "memory usage: 2.1+ KB\n",
      "None\n"
     ]
    },
    {
     "data": {
      "text/html": [
       "<div><div id=4703fec0-f5b8-4e18-8ed0-023144f98c02 style=\"display:none; background-color:#9D6CFF; color:white; width:200px; height:30px; padding-left:5px; border-radius:4px; flex-direction:row; justify-content:space-around; align-items:center;\" onmouseover=\"this.style.backgroundColor='#BA9BF8'\" onmouseout=\"this.style.backgroundColor='#9D6CFF'\" onclick=\"window.commands?.execute('create-mitosheet-from-dataframe-output');\">See Full Dataframe in Mito</div> <script> if (window.commands.hasCommand('create-mitosheet-from-dataframe-output')) document.getElementById('4703fec0-f5b8-4e18-8ed0-023144f98c02').style.display = 'flex' </script> <table border=\"1\" class=\"dataframe\">\n",
       "  <thead>\n",
       "    <tr style=\"text-align: right;\">\n",
       "      <th></th>\n",
       "      <th>state</th>\n",
       "      <th>drvr_fatl_col_bmiles</th>\n",
       "      <th>perc_fatl_speed</th>\n",
       "      <th>perc_fatl_alcohol</th>\n",
       "      <th>perc_fatl_1st_time</th>\n",
       "    </tr>\n",
       "  </thead>\n",
       "  <tbody>\n",
       "    <tr>\n",
       "      <th>46</th>\n",
       "      <td>Virginia</td>\n",
       "      <td>12.7</td>\n",
       "      <td>19</td>\n",
       "      <td>27</td>\n",
       "      <td>88</td>\n",
       "    </tr>\n",
       "    <tr>\n",
       "      <th>47</th>\n",
       "      <td>Washington</td>\n",
       "      <td>10.6</td>\n",
       "      <td>42</td>\n",
       "      <td>33</td>\n",
       "      <td>86</td>\n",
       "    </tr>\n",
       "    <tr>\n",
       "      <th>48</th>\n",
       "      <td>West Virginia</td>\n",
       "      <td>23.8</td>\n",
       "      <td>34</td>\n",
       "      <td>28</td>\n",
       "      <td>87</td>\n",
       "    </tr>\n",
       "    <tr>\n",
       "      <th>49</th>\n",
       "      <td>Wisconsin</td>\n",
       "      <td>13.8</td>\n",
       "      <td>36</td>\n",
       "      <td>33</td>\n",
       "      <td>84</td>\n",
       "    </tr>\n",
       "    <tr>\n",
       "      <th>50</th>\n",
       "      <td>Wyoming</td>\n",
       "      <td>17.4</td>\n",
       "      <td>42</td>\n",
       "      <td>32</td>\n",
       "      <td>90</td>\n",
       "    </tr>\n",
       "  </tbody>\n",
       "</table></div>"
      ],
      "text/plain": [
       "            state  drvr_fatl_col_bmiles  perc_fatl_speed  perc_fatl_alcohol  \\\n",
       "46       Virginia                  12.7               19                 27   \n",
       "47     Washington                  10.6               42                 33   \n",
       "48  West Virginia                  23.8               34                 28   \n",
       "49      Wisconsin                  13.8               36                 33   \n",
       "50        Wyoming                  17.4               42                 32   \n",
       "\n",
       "    perc_fatl_1st_time  \n",
       "46                  88  \n",
       "47                  86  \n",
       "48                  87  \n",
       "49                  84  \n",
       "50                  90  "
      ]
     },
     "execution_count": 2,
     "metadata": {},
     "output_type": "execute_result"
    }
   ],
   "source": [
    "# Import the `pandas` module as \"pd\"\n",
    "import pandas as pd\n",
    "\n",
    "# Read in `road-accidents.csv`\n",
    "car_acc = pd.read_csv('datasets/road-accidents.csv', comment='#', sep='|')\n",
    "\n",
    "# Save the number of rows columns as a tuple\n",
    "rows_and_cols = car_acc.shape\n",
    "print('There are {} rows and {} columns.\\n'.format(\n",
    "    rows_and_cols[0], rows_and_cols[1]))\n",
    "\n",
    "# Generate an overview of the DataFrame\n",
    "car_acc_information = car_acc.info()\n",
    "print(car_acc_information)\n",
    "\n",
    "# Display the last five rows of the DataFrame\n",
    "car_acc.tail()"
   ]
  },
  {
   "cell_type": "markdown",
   "metadata": {
    "dc": {
     "key": "17"
    },
    "deletable": false,
    "editable": false,
    "run_control": {
     "frozen": true
    },
    "tags": [
     "context"
    ]
   },
   "source": [
    "## 3. Create a textual and a graphical summary of the data\n",
    "<p>We now have an idea of what the dataset looks like. To further familiarize ourselves with this data, we will calculate summary statistics and produce a graphical overview of the data. The graphical overview is good to get a sense for the distribution of variables within the data and could consist of one histogram per column. It is often a good idea to also explore the pairwise relationship between all columns in the data set by using a using pairwise scatter plots (sometimes referred to as a \"scatterplot matrix\").</p>"
   ]
  },
  {
   "cell_type": "code",
   "execution_count": 3,
   "metadata": {
    "dc": {
     "key": "17"
    },
    "tags": [
     "sample_code"
    ]
   },
   "outputs": [
    {
     "name": "stdout",
     "output_type": "stream",
     "text": [
      "       drvr_fatl_col_bmiles  perc_fatl_speed  perc_fatl_alcohol  \\\n",
      "count             51.000000        51.000000          51.000000   \n",
      "mean              15.790196        31.725490          30.686275   \n",
      "std                4.122002         9.633438           5.132213   \n",
      "min                5.900000        13.000000          16.000000   \n",
      "25%               12.750000        23.000000          28.000000   \n",
      "50%               15.600000        34.000000          30.000000   \n",
      "75%               18.500000        38.000000          33.000000   \n",
      "max               23.900000        54.000000          44.000000   \n",
      "\n",
      "       perc_fatl_1st_time  \n",
      "count            51.00000  \n",
      "mean             88.72549  \n",
      "std               6.96011  \n",
      "min              76.00000  \n",
      "25%              83.50000  \n",
      "50%              88.00000  \n",
      "75%              95.00000  \n",
      "max             100.00000  \n"
     ]
    },
    {
     "data": {
      "text/plain": [
       "<seaborn.axisgrid.PairGrid at 0x1776ab170d0>"
      ]
     },
     "execution_count": 3,
     "metadata": {},
     "output_type": "execute_result"
    },
    {
     "data": {
      "image/png": "[encoded data removed]",
      "text/plain": [
       "<Figure size 720x720 with 20 Axes>"
      ]
     },
     "metadata": {
      "needs_background": "light"
     },
     "output_type": "display_data"
    }
   ],
   "source": [
    "# import seaborn and make plots appear inline\n",
    "import seaborn as sns\n",
    "%matplotlib inline\n",
    "\n",
    "# Compute the summary statistics of all columns in the `car_acc` DataFrame\n",
    "sum_stat_car = car_acc.describe()\n",
    "print(sum_stat_car)\n",
    "\n",
    "# Create a pairwise scatter plot to explore the data\n",
    "sns.pairplot(car_acc)"
   ]
  },
  {
   "cell_type": "markdown",
   "metadata": {
    "dc": {
     "key": "24"
    },
    "deletable": false,
    "editable": false,
    "run_control": {
     "frozen": true
    },
    "tags": [
     "context"
    ]
   },
   "source": [
    "## 4. Quantify the association of features and accidents\n",
    "<p>We can already see some potentially interesting relationships between the target variable (the number of fatal accidents) and the feature variables (the remaining three columns).</p>\n",
    "<p>To quantify the pairwise relationships that we observed in the scatter plots, we can compute the Pearson correlation coefficient matrix. The Pearson correlation coefficient is one of the most common methods to quantify correlation between variables, and by convention, the following thresholds are usually used:</p>\n",
    "<ul>\n",
    "<li>0.2 = weak</li>\n",
    "<li>0.5 = medium</li>\n",
    "<li>0.8 = strong</li>\n",
    "<li>0.9 = very strong</li>\n",
    "</ul>"
   ]
  },
  {
   "cell_type": "code",
   "execution_count": 4,
   "metadata": {
    "dc": {
     "key": "24"
    },
    "tags": [
     "sample_code"
    ]
   },
   "outputs": [
    {
     "data": {
      "text/html": [
       "<div><div id=865ce7b6-180f-43ff-8710-781a44f59bf8 style=\"display:none; background-color:#9D6CFF; color:white; width:200px; height:30px; padding-left:5px; border-radius:4px; flex-direction:row; justify-content:space-around; align-items:center;\" onmouseover=\"this.style.backgroundColor='#BA9BF8'\" onmouseout=\"this.style.backgroundColor='#9D6CFF'\" onclick=\"window.commands?.execute('create-mitosheet-from-dataframe-output');\">See Full Dataframe in Mito</div> <script> if (window.commands.hasCommand('create-mitosheet-from-dataframe-output')) document.getElementById('865ce7b6-180f-43ff-8710-781a44f59bf8').style.display = 'flex' </script> <table border=\"1\" class=\"dataframe\">\n",
       "  <thead>\n",
       "    <tr style=\"text-align: right;\">\n",
       "      <th></th>\n",
       "      <th>drvr_fatl_col_bmiles</th>\n",
       "      <th>perc_fatl_speed</th>\n",
       "      <th>perc_fatl_alcohol</th>\n",
       "      <th>perc_fatl_1st_time</th>\n",
       "    </tr>\n",
       "  </thead>\n",
       "  <tbody>\n",
       "    <tr>\n",
       "      <th>drvr_fatl_col_bmiles</th>\n",
       "      <td>1.000000</td>\n",
       "      <td>-0.029080</td>\n",
       "      <td>0.199426</td>\n",
       "      <td>-0.017942</td>\n",
       "    </tr>\n",
       "    <tr>\n",
       "      <th>perc_fatl_speed</th>\n",
       "      <td>-0.029080</td>\n",
       "      <td>1.000000</td>\n",
       "      <td>0.286244</td>\n",
       "      <td>0.014066</td>\n",
       "    </tr>\n",
       "    <tr>\n",
       "      <th>perc_fatl_alcohol</th>\n",
       "      <td>0.199426</td>\n",
       "      <td>0.286244</td>\n",
       "      <td>1.000000</td>\n",
       "      <td>-0.245455</td>\n",
       "    </tr>\n",
       "    <tr>\n",
       "      <th>perc_fatl_1st_time</th>\n",
       "      <td>-0.017942</td>\n",
       "      <td>0.014066</td>\n",
       "      <td>-0.245455</td>\n",
       "      <td>1.000000</td>\n",
       "    </tr>\n",
       "  </tbody>\n",
       "</table></div>"
      ],
      "text/plain": [
       "                      drvr_fatl_col_bmiles  perc_fatl_speed  \\\n",
       "drvr_fatl_col_bmiles              1.000000        -0.029080   \n",
       "perc_fatl_speed                  -0.029080         1.000000   \n",
       "perc_fatl_alcohol                 0.199426         0.286244   \n",
       "perc_fatl_1st_time               -0.017942         0.014066   \n",
       "\n",
       "                      perc_fatl_alcohol  perc_fatl_1st_time  \n",
       "drvr_fatl_col_bmiles           0.199426           -0.017942  \n",
       "perc_fatl_speed                0.286244            0.014066  \n",
       "perc_fatl_alcohol              1.000000           -0.245455  \n",
       "perc_fatl_1st_time            -0.245455            1.000000  "
      ]
     },
     "execution_count": 4,
     "metadata": {},
     "output_type": "execute_result"
    }
   ],
   "source": [
    "# Compute the correlation coefficent for all column pairs\n",
    "corr_columns = car_acc.corr()\n",
    "corr_columns"
   ]
  },
  {
   "cell_type": "markdown",
   "metadata": {
    "dc": {
     "key": "31"
    },
    "deletable": false,
    "editable": false,
    "run_control": {
     "frozen": true
    },
    "tags": [
     "context"
    ]
   },
   "source": [
    "## 5. Fit a multivariate linear regression\n",
    "<p>From the correlation table, we see that the amount of fatal accidents is most strongly correlated with alcohol consumption (first row). But in addition, we also see that some of the features are correlated with each other, for instance, speeding and alcohol consumption are positively correlated. We, therefore, want to compute the association of the target with each feature while adjusting for the effect of the remaining features. This can be done using multivariate linear regression.</p>\n",
    "<p>Both the multivariate regression and the correlation measure how strongly the features are associated with the outcome (fatal accidents). When comparing the regression coefficients with the correlation coefficients, we will see that they are slightly different. The reason for this is that the multiple regression computes the association of a feature with an outcome, given the association with all other features, which is not accounted for when calculating the correlation coefficients.</p>\n",
    "<p>A particularly interesting case is when the correlation coefficient and the regression coefficient of the same feature have opposite signs. How can this be? For example, when a feature A is positively correlated with the outcome Y but also positively correlated with a different feature B that has a negative effect on Y, then the indirect correlation (A-&gt;B-&gt;Y) can overwhelm the direct correlation (A-&gt;Y). In such a case, the regression coefficient of feature A could be positive, while the correlation coefficient is negative. This is sometimes called a <em>masking</em> relationship. Let’s see if the multivariate regression can reveal such a phenomenon.</p>"
   ]
  },
  {
   "cell_type": "code",
   "execution_count": 5,
   "metadata": {
    "dc": {
     "key": "31"
    },
    "tags": [
     "sample_code"
    ]
   },
   "outputs": [
    {
     "data": {
      "text/plain": [
       "array([-0.04180041,  0.19086404,  0.02473301])"
      ]
     },
     "execution_count": 5,
     "metadata": {},
     "output_type": "execute_result"
    }
   ],
   "source": [
    "# Import the linear model function from sklearn\n",
    "from sklearn import linear_model\n",
    "\n",
    "# Create the features and target DataFrames\n",
    "features = car_acc.drop(['state', 'drvr_fatl_col_bmiles'], axis=1)\n",
    "target = car_acc.drvr_fatl_col_bmiles.copy()\n",
    "\n",
    "# Create a linear regression object\n",
    "reg = linear_model.LinearRegression()\n",
    "\n",
    "# Fit a multivariate linear regression model\n",
    "reg.fit(features, target)\n",
    "\n",
    "# Retrieve the regression coefficients\n",
    "fit_coef = reg.coef_\n",
    "fit_coef"
   ]
  },
  {
   "cell_type": "code",
   "execution_count": 6,
   "metadata": {
    "dc": {
     "key": "31"
    }
   },
   "outputs": [
    {
     "data": {
      "text/html": [
       "<div><div id=5b5f7f42-177c-4edb-bcf4-96f282810829 style=\"display:none; background-color:#9D6CFF; color:white; width:200px; height:30px; padding-left:5px; border-radius:4px; flex-direction:row; justify-content:space-around; align-items:center;\" onmouseover=\"this.style.backgroundColor='#BA9BF8'\" onmouseout=\"this.style.backgroundColor='#9D6CFF'\" onclick=\"window.commands?.execute('create-mitosheet-from-dataframe-output');\">See Full Dataframe in Mito</div> <script> if (window.commands.hasCommand('create-mitosheet-from-dataframe-output')) document.getElementById('5b5f7f42-177c-4edb-bcf4-96f282810829').style.display = 'flex' </script> <table border=\"1\" class=\"dataframe\">\n",
       "  <thead>\n",
       "    <tr style=\"text-align: right;\">\n",
       "      <th></th>\n",
       "      <th>perc_fatl_speed</th>\n",
       "      <th>perc_fatl_alcohol</th>\n",
       "      <th>perc_fatl_1st_time</th>\n",
       "    </tr>\n",
       "  </thead>\n",
       "  <tbody>\n",
       "    <tr>\n",
       "      <th>0</th>\n",
       "      <td>39</td>\n",
       "      <td>30</td>\n",
       "      <td>80</td>\n",
       "    </tr>\n",
       "    <tr>\n",
       "      <th>1</th>\n",
       "      <td>41</td>\n",
       "      <td>25</td>\n",
       "      <td>94</td>\n",
       "    </tr>\n",
       "    <tr>\n",
       "      <th>2</th>\n",
       "      <td>35</td>\n",
       "      <td>28</td>\n",
       "      <td>96</td>\n",
       "    </tr>\n",
       "    <tr>\n",
       "      <th>3</th>\n",
       "      <td>18</td>\n",
       "      <td>26</td>\n",
       "      <td>95</td>\n",
       "    </tr>\n",
       "    <tr>\n",
       "      <th>4</th>\n",
       "      <td>35</td>\n",
       "      <td>28</td>\n",
       "      <td>89</td>\n",
       "    </tr>\n",
       "  </tbody>\n",
       "</table></div>"
      ],
      "text/plain": [
       "   perc_fatl_speed  perc_fatl_alcohol  perc_fatl_1st_time\n",
       "0               39                 30                  80\n",
       "1               41                 25                  94\n",
       "2               35                 28                  96\n",
       "3               18                 26                  95\n",
       "4               35                 28                  89"
      ]
     },
     "execution_count": 6,
     "metadata": {},
     "output_type": "execute_result"
    }
   ],
   "source": [
    "features.head()"
   ]
  },
  {
   "cell_type": "markdown",
   "metadata": {
    "dc": {
     "key": "38"
    },
    "deletable": false,
    "editable": false,
    "run_control": {
     "frozen": true
    },
    "tags": [
     "context"
    ]
   },
   "source": [
    "## 6. Perform PCA on standardized data\n",
    "<p>We have learned that alcohol consumption is weakly associated with the number of fatal accidents across states. This could lead us to conclude that alcohol consumption should be a focus for further investigations and maybe strategies should divide states into high versus low alcohol consumption in accidents. But there are also associations between  alcohol consumptions and the other two features, so it might be worth trying to split the states in a way that accounts for all three features.</p>\n",
    "<p>One way of clustering the data is to use PCA to visualize data in reduced dimensional space where we can try to pick up patterns by eye. PCA uses the absolute variance to calculate the overall variance explained for each principal component, so it is important that the features are on a similar scale (unless we would have a particular reason that one feature should be weighted more).</p>\n",
    "<p>We'll use the appropriate scaling function to standardize the features to be centered with mean 0 and scaled with standard deviation 1.</p>"
   ]
  },
  {
   "cell_type": "code",
   "execution_count": 7,
   "metadata": {
    "dc": {
     "key": "38"
    },
    "scrolled": false,
    "tags": [
     "sample_code"
    ]
   },
   "outputs": [
    {
     "name": "stdout",
     "output_type": "stream",
     "text": [
      "The cumulative variance of the first two principal components is 0.7947\n"
     ]
    },
    {
     "data": {
      "image/png": "[encoded data removed]",
      "text/plain": [
       "<Figure size 432x288 with 1 Axes>"
      ]
     },
     "metadata": {
      "needs_background": "light"
     },
     "output_type": "display_data"
    }
   ],
   "source": [
    "# Standardize and center the feature columns\n",
    "from sklearn.preprocessing import StandardScaler\n",
    "scaler = StandardScaler()\n",
    "features_scaled = scaler.fit_transform(features)\n",
    "\n",
    "# Import the PCA class function from sklearn\n",
    "from sklearn.decomposition import PCA\n",
    "pca = PCA()\n",
    "\n",
    "# Fit the standardized data to the pca\n",
    "pca.fit(features_scaled)\n",
    "\n",
    "# Plot the proportion of variance explained on the y-axis of the bar plot\n",
    "import matplotlib.pyplot as plt\n",
    "plt.bar(range(1, pca.n_components_ + 1),  pca.explained_variance_ratio_)\n",
    "plt.xlabel('Principal component #')\n",
    "plt.ylabel('Proportion of variance explained')\n",
    "plt.xticks([1, 2, 3])\n",
    "\n",
    "# Compute the cumulative proportion of variance explained by the first two principal components\n",
    "two_first_comp_var_exp = pca.explained_variance_ratio_[0].cumsum()[0] + pca.explained_variance_ratio_[1].cumsum()[0]\n",
    "print(\"The cumulative variance of the first two principal components is {}\".format(\n",
    "    round(two_first_comp_var_exp, 5)))"
   ]
  },
  {
   "cell_type": "markdown",
   "metadata": {
    "dc": {
     "key": "45"
    },
    "deletable": false,
    "editable": false,
    "run_control": {
     "frozen": true
    },
    "tags": [
     "context"
    ]
   },
   "source": [
    "## 7. Visualize the first two principal components\n",
    "<p>The first two principal components enable visualization of the data in two dimensions while capturing a high proportion of the variation (79%) from all three features: speeding, alcohol influence, and first-time accidents. This enables us to use our eyes to try to discern patterns in the data with the goal to find groups of similar states. Although clustering algorithms are becoming increasingly efficient, human pattern recognition is an easily accessible and very efficient method of assessing patterns in data.</p>\n",
    "<p>We will create a scatter plot of the first principle components and explore how the states cluster together in this visualization.</p>"
   ]
  },
  {
   "cell_type": "code",
   "execution_count": 8,
   "metadata": {
    "dc": {
     "key": "45"
    },
    "tags": [
     "sample_code"
    ]
   },
   "outputs": [
    {
     "data": {
      "text/plain": [
       "<matplotlib.collections.PathCollection at 0x1776f564b20>"
      ]
     },
     "execution_count": 8,
     "metadata": {},
     "output_type": "execute_result"
    },
    {
     "data": {
      "image/png": "[encoded data removed]",
      "text/plain": [
       "<Figure size 432x288 with 1 Axes>"
      ]
     },
     "metadata": {
      "needs_background": "light"
     },
     "output_type": "display_data"
    }
   ],
   "source": [
    "# Transform the scaled features using two principal components\n",
    "pca = PCA(n_components=2)\n",
    "p_comps = pca.fit_transform(features_scaled)\n",
    "\n",
    "# Extract the first and second component to use for the scatter plot\n",
    "p_comp1 = p_comps[:,0]\n",
    "p_comp2 = p_comps[:,1]\n",
    "\n",
    "# Plot the first two principal components in a scatter plot\n",
    "plt.scatter(p_comp1, p_comp2)"
   ]
  },
  {
   "cell_type": "markdown",
   "metadata": {
    "dc": {
     "key": "52"
    },
    "deletable": false,
    "editable": false,
    "run_control": {
     "frozen": true
    },
    "tags": [
     "context"
    ]
   },
   "source": [
    "## 8. Find clusters of similar states in the data\n",
    "<p>It was not entirely clear from the PCA scatter plot how many groups in which the states cluster. To assist with identifying a reasonable number of clusters, we can use KMeans clustering by creating a scree plot and finding the \"elbow\", which is an indication of when the addition of more clusters does not add much explanatory power.</p>"
   ]
  },
  {
   "cell_type": "code",
   "execution_count": 9,
   "metadata": {
    "dc": {
     "key": "52"
    },
    "tags": [
     "sample_code"
    ]
   },
   "outputs": [
    {
     "name": "stderr",
     "output_type": "stream",
     "text": [
      "C:\\Users\\Prash\\anaconda3\\lib\\site-packages\\sklearn\\cluster\\_kmeans.py:881: UserWarning: KMeans is known to have a memory leak on Windows with MKL, when there are less chunks than available threads. You can avoid it by setting the environment variable OMP_NUM_THREADS=1.\n",
      "  warnings.warn(\n"
     ]
    },
    {
     "data": {
      "text/plain": [
       "[<matplotlib.lines.Line2D at 0x1776fafde20>]"
      ]
     },
     "execution_count": 9,
     "metadata": {},
     "output_type": "execute_result"
    },
    {
     "data": {
      "image/png": "[encoded data removed]",
      "text/plain": [
       "<Figure size 432x288 with 1 Axes>"
      ]
     },
     "metadata": {
      "needs_background": "light"
     },
     "output_type": "display_data"
    }
   ],
   "source": [
    "# Import KMeans from sklearn\n",
    "from sklearn.cluster import KMeans\n",
    "\n",
    "# A loop will be used to plot the explanatory power for up to 10 KMeans clusters\n",
    "ks = range(1, 10)\n",
    "inertias = []\n",
    "for k in ks:\n",
    "    # Initialize the KMeans object using the current number of clusters (k)\n",
    "    km = KMeans(n_clusters=k, random_state=8)\n",
    "    # Fit the scaled features to the KMeans object\n",
    "    km.fit(features_scaled)\n",
    "    # Append the inertia for `km` to the list of inertias\n",
    "    inertias.append(km.inertia_)\n",
    "    \n",
    "# Plot the results in a line plot\n",
    "plt.plot(ks, inertias , marker='o')"
   ]
  },
  {
   "cell_type": "markdown",
   "metadata": {
    "dc": {
     "key": "59"
    },
    "deletable": false,
    "editable": false,
    "run_control": {
     "frozen": true
    },
    "tags": [
     "context"
    ]
   },
   "source": [
    "## 9. KMeans to visualize clusters in the PCA scatter plot\n",
    "<p>Since there wasn't a clear elbow in the scree plot, assigning the states to either two or three clusters is a reasonable choice, and we will resume our analysis using three clusters. Let's see how the PCA scatter plot looks if we color the states according to the cluster to which they are assigned.</p>"
   ]
  },
  {
   "cell_type": "code",
   "execution_count": 10,
   "metadata": {
    "dc": {
     "key": "59"
    },
    "tags": [
     "sample_code"
    ]
   },
   "outputs": [
    {
     "data": {
      "text/plain": [
       "<matplotlib.collections.PathCollection at 0x177703b4610>"
      ]
     },
     "execution_count": 10,
     "metadata": {},
     "output_type": "execute_result"
    },
    {
     "data": {
      "image/png": "[encoded data removed]",
      "text/plain": [
       "<Figure size 432x288 with 1 Axes>"
      ]
     },
     "metadata": {
      "needs_background": "light"
     },
     "output_type": "display_data"
    }
   ],
   "source": [
    "# Create a KMeans object with 3 clusters, use random_state=8 \n",
    "km = KMeans(n_clusters=3, random_state=8)\n",
    "\n",
    "# Fit the data to the `km` object\n",
    "km.fit(features_scaled)\n",
    "\n",
    "# Create a scatter plot of the first two principal components\n",
    "# and color it according to the KMeans cluster assignment \n",
    "plt.scatter(p_comp1, p_comp2, c=km.labels_)"
   ]
  },
  {
   "cell_type": "markdown",
   "metadata": {
    "dc": {
     "key": "66"
    },
    "deletable": false,
    "editable": false,
    "run_control": {
     "frozen": true
    },
    "tags": [
     "context"
    ]
   },
   "source": [
    "## 10. Visualize the feature differences between the clusters\n",
    "<p>Thus far, we have used both our visual interpretation of the data and the KMeans clustering algorithm to reveal patterns in the data, but what do these patterns mean?</p>\n",
    "<p>Remember that the information we have used to cluster the states into three distinct groups are the percentage of drivers speeding, under alcohol influence and that has not previously been involved in an accident. We used these clusters to visualize how the states group together when considering the first two principal components. This is good for us to understand structure in the data, but not always easy to understand, especially not if the findings are to be communicated to a non-specialist audience.</p>\n",
    "<p>A reasonable next step in our analysis is to explore how the three clusters are different in terms of the three features that we used for clustering. Instead of using the scaled features, we return to using the unscaled features to help us interpret the differences.</p>"
   ]
  },
  {
   "cell_type": "code",
   "execution_count": 11,
   "metadata": {
    "dc": {
     "key": "66"
    },
    "tags": [
     "sample_code"
    ]
   },
   "outputs": [
    {
     "data": {
      "text/html": [
       "<div><div id=3835d029-0120-4607-9879-9c6a229193df style=\"display:none; background-color:#9D6CFF; color:white; width:200px; height:30px; padding-left:5px; border-radius:4px; flex-direction:row; justify-content:space-around; align-items:center;\" onmouseover=\"this.style.backgroundColor='#BA9BF8'\" onmouseout=\"this.style.backgroundColor='#9D6CFF'\" onclick=\"window.commands?.execute('create-mitosheet-from-dataframe-output');\">See Full Dataframe in Mito</div> <script> if (window.commands.hasCommand('create-mitosheet-from-dataframe-output')) document.getElementById('3835d029-0120-4607-9879-9c6a229193df').style.display = 'flex' </script> <table border=\"1\" class=\"dataframe\">\n",
       "  <thead>\n",
       "    <tr style=\"text-align: right;\">\n",
       "      <th></th>\n",
       "      <th>state</th>\n",
       "      <th>drvr_fatl_col_bmiles</th>\n",
       "      <th>perc_fatl_speed</th>\n",
       "      <th>perc_fatl_alcohol</th>\n",
       "      <th>perc_fatl_1st_time</th>\n",
       "      <th>cluster</th>\n",
       "    </tr>\n",
       "  </thead>\n",
       "  <tbody>\n",
       "    <tr>\n",
       "      <th>0</th>\n",
       "      <td>Alabama</td>\n",
       "      <td>18.8</td>\n",
       "      <td>39</td>\n",
       "      <td>30</td>\n",
       "      <td>80</td>\n",
       "      <td>0</td>\n",
       "    </tr>\n",
       "    <tr>\n",
       "      <th>1</th>\n",
       "      <td>Alaska</td>\n",
       "      <td>18.1</td>\n",
       "      <td>41</td>\n",
       "      <td>25</td>\n",
       "      <td>94</td>\n",
       "      <td>2</td>\n",
       "    </tr>\n",
       "    <tr>\n",
       "      <th>2</th>\n",
       "      <td>Arizona</td>\n",
       "      <td>18.6</td>\n",
       "      <td>35</td>\n",
       "      <td>28</td>\n",
       "      <td>96</td>\n",
       "      <td>2</td>\n",
       "    </tr>\n",
       "    <tr>\n",
       "      <th>3</th>\n",
       "      <td>Arkansas</td>\n",
       "      <td>22.4</td>\n",
       "      <td>18</td>\n",
       "      <td>26</td>\n",
       "      <td>95</td>\n",
       "      <td>2</td>\n",
       "    </tr>\n",
       "    <tr>\n",
       "      <th>4</th>\n",
       "      <td>California</td>\n",
       "      <td>12.0</td>\n",
       "      <td>35</td>\n",
       "      <td>28</td>\n",
       "      <td>89</td>\n",
       "      <td>2</td>\n",
       "    </tr>\n",
       "  </tbody>\n",
       "</table></div>"
      ],
      "text/plain": [
       "        state  drvr_fatl_col_bmiles  perc_fatl_speed  perc_fatl_alcohol  \\\n",
       "0     Alabama                  18.8               39                 30   \n",
       "1      Alaska                  18.1               41                 25   \n",
       "2     Arizona                  18.6               35                 28   \n",
       "3    Arkansas                  22.4               18                 26   \n",
       "4  California                  12.0               35                 28   \n",
       "\n",
       "   perc_fatl_1st_time  cluster  \n",
       "0                  80        0  \n",
       "1                  94        2  \n",
       "2                  96        2  \n",
       "3                  95        2  \n",
       "4                  89        2  "
      ]
     },
     "metadata": {},
     "output_type": "display_data"
    },
    {
     "data": {
      "text/html": [
       "<div><div id=54356e1c-6b20-41c7-92e8-194c13f73b9f style=\"display:none; background-color:#9D6CFF; color:white; width:200px; height:30px; padding-left:5px; border-radius:4px; flex-direction:row; justify-content:space-around; align-items:center;\" onmouseover=\"this.style.backgroundColor='#BA9BF8'\" onmouseout=\"this.style.backgroundColor='#9D6CFF'\" onclick=\"window.commands?.execute('create-mitosheet-from-dataframe-output');\">See Full Dataframe in Mito</div> <script> if (window.commands.hasCommand('create-mitosheet-from-dataframe-output')) document.getElementById('54356e1c-6b20-41c7-92e8-194c13f73b9f').style.display = 'flex' </script> <table border=\"1\" class=\"dataframe\">\n",
       "  <thead>\n",
       "    <tr style=\"text-align: right;\">\n",
       "      <th></th>\n",
       "      <th>cluster</th>\n",
       "      <th>measurement</th>\n",
       "      <th>percent</th>\n",
       "    </tr>\n",
       "  </thead>\n",
       "  <tbody>\n",
       "    <tr>\n",
       "      <th>0</th>\n",
       "      <td>0</td>\n",
       "      <td>perc_fatl_speed</td>\n",
       "      <td>39</td>\n",
       "    </tr>\n",
       "    <tr>\n",
       "      <th>1</th>\n",
       "      <td>2</td>\n",
       "      <td>perc_fatl_speed</td>\n",
       "      <td>41</td>\n",
       "    </tr>\n",
       "    <tr>\n",
       "      <th>2</th>\n",
       "      <td>2</td>\n",
       "      <td>perc_fatl_speed</td>\n",
       "      <td>35</td>\n",
       "    </tr>\n",
       "    <tr>\n",
       "      <th>3</th>\n",
       "      <td>2</td>\n",
       "      <td>perc_fatl_speed</td>\n",
       "      <td>18</td>\n",
       "    </tr>\n",
       "    <tr>\n",
       "      <th>4</th>\n",
       "      <td>2</td>\n",
       "      <td>perc_fatl_speed</td>\n",
       "      <td>35</td>\n",
       "    </tr>\n",
       "  </tbody>\n",
       "</table></div>"
      ],
      "text/plain": [
       "   cluster      measurement  percent\n",
       "0        0  perc_fatl_speed       39\n",
       "1        2  perc_fatl_speed       41\n",
       "2        2  perc_fatl_speed       35\n",
       "3        2  perc_fatl_speed       18\n",
       "4        2  perc_fatl_speed       35"
      ]
     },
     "metadata": {},
     "output_type": "display_data"
    },
    {
     "name": "stderr",
     "output_type": "stream",
     "text": [
      "C:\\Users\\Prash\\anaconda3\\lib\\site-packages\\seaborn\\_decorators.py:36: FutureWarning: Pass the following variables as keyword args: x, y. From version 0.12, the only valid positional argument will be `data`, and passing other arguments without an explicit keyword will result in an error or misinterpretation.\n",
      "  warnings.warn(\n"
     ]
    },
    {
     "data": {
      "text/plain": [
       "<AxesSubplot:xlabel='percent', ylabel='measurement'>"
      ]
     },
     "execution_count": 11,
     "metadata": {},
     "output_type": "execute_result"
    },
    {
     "data": {
      "image/png": "[encoded data removed]",
      "text/plain": [
       "<Figure size 432x288 with 1 Axes>"
      ]
     },
     "metadata": {
      "needs_background": "light"
     },
     "output_type": "display_data"
    }
   ],
   "source": [
    "# Create a new column with the labels from the KMeans clustering\n",
    "car_acc['cluster'] = km.labels_\n",
    "\n",
    "display(car_acc.head())\n",
    "\n",
    "# Reshape the DataFrame to the long format\n",
    "melt_car = pd.melt(car_acc, id_vars=['cluster'],\n",
    "                  var_name='measurement', value_name='percent',\n",
    "                  value_vars=['perc_fatl_speed', 'perc_fatl_alcohol','perc_fatl_1st_time'])\n",
    "\n",
    "display(melt_car.head())\n",
    "\n",
    "# Create a violin plot splitting and coloring the results according to the km-clusters\n",
    "sns.violinplot(melt_car['percent'], melt_car['measurement'], hue=melt_car['cluster'])"
   ]
  },
  {
   "cell_type": "markdown",
   "metadata": {
    "dc": {
     "key": "73"
    },
    "deletable": false,
    "editable": false,
    "run_control": {
     "frozen": true
    },
    "tags": [
     "context"
    ]
   },
   "source": [
    "## 11. Compute the number of accidents within each cluster\n",
    "<p>Now it is clear that different groups of states may require different interventions. Since resources and time are limited, it is useful to start off with an intervention in one of the three groups first. Which group would this be? To determine this, we will include data on how many miles are driven in each state, because this will help us to compute the total number of fatal accidents in each state. Data on miles driven is available in another tab-delimited text file. We will assign this new information to a column in the DataFrame and create a violin plot for how many total fatal traffic accidents there are within each state cluster.</p>"
   ]
  },
  {
   "cell_type": "code",
   "execution_count": 12,
   "metadata": {
    "dc": {
     "key": "73"
    },
    "tags": [
     "sample_code"
    ]
   },
   "outputs": [
    {
     "data": {
      "text/html": [
       "<div><div id=932dce1c-bc14-493e-979c-e36f0c64be01 style=\"display:none; background-color:#9D6CFF; color:white; width:200px; height:30px; padding-left:5px; border-radius:4px; flex-direction:row; justify-content:space-around; align-items:center;\" onmouseover=\"this.style.backgroundColor='#BA9BF8'\" onmouseout=\"this.style.backgroundColor='#9D6CFF'\" onclick=\"window.commands?.execute('create-mitosheet-from-dataframe-output');\">See Full Dataframe in Mito</div> <script> if (window.commands.hasCommand('create-mitosheet-from-dataframe-output')) document.getElementById('932dce1c-bc14-493e-979c-e36f0c64be01').style.display = 'flex' </script> <table border=\"1\" class=\"dataframe\">\n",
       "  <thead>\n",
       "    <tr style=\"text-align: right;\">\n",
       "      <th></th>\n",
       "      <th>state</th>\n",
       "      <th>million_miles_annually</th>\n",
       "    </tr>\n",
       "  </thead>\n",
       "  <tbody>\n",
       "    <tr>\n",
       "      <th>0</th>\n",
       "      <td>Alabama</td>\n",
       "      <td>64914</td>\n",
       "    </tr>\n",
       "    <tr>\n",
       "      <th>1</th>\n",
       "      <td>Alaska</td>\n",
       "      <td>4593</td>\n",
       "    </tr>\n",
       "    <tr>\n",
       "      <th>2</th>\n",
       "      <td>Arizona</td>\n",
       "      <td>59575</td>\n",
       "    </tr>\n",
       "    <tr>\n",
       "      <th>3</th>\n",
       "      <td>Arkansas</td>\n",
       "      <td>32953</td>\n",
       "    </tr>\n",
       "    <tr>\n",
       "      <th>4</th>\n",
       "      <td>California</td>\n",
       "      <td>320784</td>\n",
       "    </tr>\n",
       "  </tbody>\n",
       "</table></div>"
      ],
      "text/plain": [
       "        state  million_miles_annually\n",
       "0     Alabama                   64914\n",
       "1      Alaska                    4593\n",
       "2     Arizona                   59575\n",
       "3    Arkansas                   32953\n",
       "4  California                  320784"
      ]
     },
     "metadata": {},
     "output_type": "display_data"
    },
    {
     "data": {
      "text/html": [
       "<div><div id=f2edd71a-ea84-4348-a945-f5860b7dec09 style=\"display:none; background-color:#9D6CFF; color:white; width:200px; height:30px; padding-left:5px; border-radius:4px; flex-direction:row; justify-content:space-around; align-items:center;\" onmouseover=\"this.style.backgroundColor='#BA9BF8'\" onmouseout=\"this.style.backgroundColor='#9D6CFF'\" onclick=\"window.commands?.execute('create-mitosheet-from-dataframe-output');\">See Full Dataframe in Mito</div> <script> if (window.commands.hasCommand('create-mitosheet-from-dataframe-output')) document.getElementById('f2edd71a-ea84-4348-a945-f5860b7dec09').style.display = 'flex' </script> <table border=\"1\" class=\"dataframe\">\n",
       "  <thead>\n",
       "    <tr style=\"text-align: right;\">\n",
       "      <th></th>\n",
       "      <th>state</th>\n",
       "      <th>drvr_fatl_col_bmiles</th>\n",
       "      <th>perc_fatl_speed</th>\n",
       "      <th>perc_fatl_alcohol</th>\n",
       "      <th>perc_fatl_1st_time</th>\n",
       "      <th>cluster</th>\n",
       "      <th>million_miles_annually</th>\n",
       "      <th>num_drvr_fatl_col</th>\n",
       "    </tr>\n",
       "  </thead>\n",
       "  <tbody>\n",
       "    <tr>\n",
       "      <th>0</th>\n",
       "      <td>Alabama</td>\n",
       "      <td>18.8</td>\n",
       "      <td>39</td>\n",
       "      <td>30</td>\n",
       "      <td>80</td>\n",
       "      <td>0</td>\n",
       "      <td>64914</td>\n",
       "      <td>1220.3832</td>\n",
       "    </tr>\n",
       "    <tr>\n",
       "      <th>1</th>\n",
       "      <td>Alaska</td>\n",
       "      <td>18.1</td>\n",
       "      <td>41</td>\n",
       "      <td>25</td>\n",
       "      <td>94</td>\n",
       "      <td>2</td>\n",
       "      <td>4593</td>\n",
       "      <td>83.1333</td>\n",
       "    </tr>\n",
       "    <tr>\n",
       "      <th>2</th>\n",
       "      <td>Arizona</td>\n",
       "      <td>18.6</td>\n",
       "      <td>35</td>\n",
       "      <td>28</td>\n",
       "      <td>96</td>\n",
       "      <td>2</td>\n",
       "      <td>59575</td>\n",
       "      <td>1108.0950</td>\n",
       "    </tr>\n",
       "    <tr>\n",
       "      <th>3</th>\n",
       "      <td>Arkansas</td>\n",
       "      <td>22.4</td>\n",
       "      <td>18</td>\n",
       "      <td>26</td>\n",
       "      <td>95</td>\n",
       "      <td>2</td>\n",
       "      <td>32953</td>\n",
       "      <td>738.1472</td>\n",
       "    </tr>\n",
       "    <tr>\n",
       "      <th>4</th>\n",
       "      <td>California</td>\n",
       "      <td>12.0</td>\n",
       "      <td>35</td>\n",
       "      <td>28</td>\n",
       "      <td>89</td>\n",
       "      <td>2</td>\n",
       "      <td>320784</td>\n",
       "      <td>3849.4080</td>\n",
       "    </tr>\n",
       "  </tbody>\n",
       "</table></div>"
      ],
      "text/plain": [
       "        state  drvr_fatl_col_bmiles  perc_fatl_speed  perc_fatl_alcohol  \\\n",
       "0     Alabama                  18.8               39                 30   \n",
       "1      Alaska                  18.1               41                 25   \n",
       "2     Arizona                  18.6               35                 28   \n",
       "3    Arkansas                  22.4               18                 26   \n",
       "4  California                  12.0               35                 28   \n",
       "\n",
       "   perc_fatl_1st_time  cluster  million_miles_annually  num_drvr_fatl_col  \n",
       "0                  80        0                   64914          1220.3832  \n",
       "1                  94        2                    4593            83.1333  \n",
       "2                  96        2                   59575          1108.0950  \n",
       "3                  95        2                   32953           738.1472  \n",
       "4                  89        2                  320784          3849.4080  "
      ]
     },
     "metadata": {},
     "output_type": "display_data"
    },
    {
     "data": {
      "text/html": [
       "<div><div id=862fd4c8-a70a-4ecc-992f-65e8691fac94 style=\"display:none; background-color:#9D6CFF; color:white; width:200px; height:30px; padding-left:5px; border-radius:4px; flex-direction:row; justify-content:space-around; align-items:center;\" onmouseover=\"this.style.backgroundColor='#BA9BF8'\" onmouseout=\"this.style.backgroundColor='#9D6CFF'\" onclick=\"window.commands?.execute('create-mitosheet-from-dataframe-output');\">See Full Dataframe in Mito</div> <script> if (window.commands.hasCommand('create-mitosheet-from-dataframe-output')) document.getElementById('862fd4c8-a70a-4ecc-992f-65e8691fac94').style.display = 'flex' </script> <table border=\"1\" class=\"dataframe\">\n",
       "  <thead>\n",
       "    <tr style=\"text-align: right;\">\n",
       "      <th></th>\n",
       "      <th>count</th>\n",
       "      <th>mean</th>\n",
       "      <th>sum</th>\n",
       "    </tr>\n",
       "    <tr>\n",
       "      <th>cluster</th>\n",
       "      <th></th>\n",
       "      <th></th>\n",
       "      <th></th>\n",
       "    </tr>\n",
       "  </thead>\n",
       "  <tbody>\n",
       "    <tr>\n",
       "      <th>0</th>\n",
       "      <td>18</td>\n",
       "      <td>911.406439</td>\n",
       "      <td>16405.3159</td>\n",
       "    </tr>\n",
       "    <tr>\n",
       "      <th>1</th>\n",
       "      <td>11</td>\n",
       "      <td>860.505945</td>\n",
       "      <td>9465.5654</td>\n",
       "    </tr>\n",
       "    <tr>\n",
       "      <th>2</th>\n",
       "      <td>22</td>\n",
       "      <td>898.378595</td>\n",
       "      <td>19764.3291</td>\n",
       "    </tr>\n",
       "  </tbody>\n",
       "</table></div>"
      ],
      "text/plain": [
       "         count        mean         sum\n",
       "cluster                               \n",
       "0           18  911.406439  16405.3159\n",
       "1           11  860.505945   9465.5654\n",
       "2           22  898.378595  19764.3291"
      ]
     },
     "execution_count": 12,
     "metadata": {},
     "output_type": "execute_result"
    },
    {
     "data": {
      "image/png": "[encoded data removed]",
      "text/plain": [
       "<Figure size 432x288 with 1 Axes>"
      ]
     },
     "metadata": {
      "needs_background": "light"
     },
     "output_type": "display_data"
    }
   ],
   "source": [
    "# Read in the new dataset\n",
    "miles_driven = pd.read_csv('datasets/miles-driven.csv', sep='|')\n",
    "\n",
    "display(miles_driven.head())\n",
    "\n",
    "# Merge the `car_acc` DataFrame with the `miles_driven` DataFrame\n",
    "car_acc_miles = car_acc.merge(miles_driven, on='state')\n",
    "\n",
    "# Create a new column for the number of drivers involved in fatal accidents\n",
    "car_acc_miles['num_drvr_fatl_col'] = (car_acc_miles['drvr_fatl_col_bmiles'] * car_acc_miles['million_miles_annually']) / 1000\n",
    "\n",
    "display(car_acc_miles.head())\n",
    "\n",
    "# Create a barplot of the total number of accidents per cluster\n",
    "sns.barplot(x='cluster', y='num_drvr_fatl_col', data=car_acc_miles, estimator=sum, ci=None)\n",
    "\n",
    "# Calculate the number of states in each cluster and their 'num_drvr_fatl_col' mean and sum.\n",
    "count_mean_sum = car_acc_miles.groupby('cluster')['num_drvr_fatl_col'].agg(['count', 'mean', 'sum'])\n",
    "count_mean_sum"
   ]
  },
  {
   "cell_type": "markdown",
   "metadata": {
    "dc": {
     "key": "80"
    },
    "deletable": false,
    "editable": false,
    "run_control": {
     "frozen": true
    },
    "tags": [
     "context"
    ]
   },
   "source": [
    "## 12. Make a decision when there is no clear right choice\n",
    "<p>As we can see, there is no obvious correct choice regarding which cluster is the most important to focus on. Yet, we can still argue for a certain cluster and motivate this using our findings above. Which cluster do you think should be a focus for policy intervention and further investigation?</p>"
   ]
  },
  {
   "cell_type": "code",
   "execution_count": 13,
   "metadata": {
    "dc": {
     "key": "80"
    },
    "tags": [
     "sample_code"
    ]
   },
   "outputs": [],
   "source": [
    "# Which cluster would you choose?\n",
    "cluster_num = 2"
   ]
  },
  {
   "cell_type": "code",
   "execution_count": null,
   "metadata": {},
   "outputs": [],
   "source": []
  }
 ],
 "metadata": {
  "kernelspec": {
   "display_name": "Python 3",
   "language": "python",
   "name": "python3"
  },
  "language_info": {
   "codemirror_mode": {
    "name": "ipython",
    "version": 3
   },
   "file_extension": ".py",
   "mimetype": "text/x-python",
   "name": "python",
   "nbconvert_exporter": "python",
   "pygments_lexer": "ipython3",
   "version": "3.8.5"
  }
 },
 "nbformat": 4,
 "nbformat_minor": 2
}
